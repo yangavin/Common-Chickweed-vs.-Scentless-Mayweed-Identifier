{
 "cells": [
  {
   "cell_type": "code",
   "execution_count": 1,
   "id": "89564ed0-40f3-46c0-8052-915ad3fa4799",
   "metadata": {},
   "outputs": [],
   "source": [
    "import matplotlib.pyplot as plt\n",
    "import seaborn as sns\n",
    "\n",
    "import os\n",
    "from keras.preprocessing.image import ImageDataGenerator\n",
    "from keras.models import Sequential\n",
    "from keras.layers import Conv2D, MaxPooling2D\n",
    "from keras.layers import Activation, Dropout, Flatten, Dense\n",
    "from keras import backend as K"
   ]
  },
  {
   "cell_type": "code",
   "execution_count": 2,
   "id": "d720c105-2089-47dd-b60e-c803ee93f486",
   "metadata": {},
   "outputs": [],
   "source": [
    "img_width, img_height = 224, 224\n",
    "\n",
    "\n",
    "train_data_dir = 'train'\n",
    "test_data_dir = 'test'\n",
    "nb_train_samples = 902\n",
    "nb_test_samples = 225\n",
    "epochs = 10\n",
    "batch_size = 16\n",
    "\n",
    "\n",
    "if K.image_data_format() == 'channels_first':\n",
    "    input_shape = (3, img_width, img_height)\n",
    "else:\n",
    "    input_shape = (img_width, img_height, 3)"
   ]
  },
  {
   "cell_type": "code",
   "execution_count": 3,
   "id": "8ffefe30-6e4f-42eb-866d-8f199a2eeef0",
   "metadata": {},
   "outputs": [],
   "source": [
    "model = Sequential()\n",
    "model.add(Conv2D(32, (2, 2), input_shape=input_shape))\n",
    "model.add(Activation('relu'))\n",
    "model.add(MaxPooling2D(pool_size=(2, 2)))\n",
    " \n",
    "model.add(Conv2D(32, (2, 2)))\n",
    "model.add(Activation('relu'))\n",
    "model.add(MaxPooling2D(pool_size=(2, 2)))\n",
    " \n",
    "model.add(Conv2D(64, (2, 2)))\n",
    "model.add(Activation('relu'))\n",
    "model.add(MaxPooling2D(pool_size=(2, 2)))\n",
    " \n",
    "model.add(Flatten())\n",
    "model.add(Dense(64))\n",
    "model.add(Activation('relu'))\n",
    "model.add(Dropout(0.5))\n",
    "model.add(Dense(1))\n",
    "model.add(Activation('sigmoid'))"
   ]
  },
  {
   "cell_type": "code",
   "execution_count": 4,
   "id": "56c1ab91-0ef6-45d6-a565-8a16a198833e",
   "metadata": {},
   "outputs": [],
   "source": [
    "model.compile(loss='binary_crossentropy',\n",
    "              optimizer='rmsprop',\n",
    "              metrics=['accuracy'])"
   ]
  },
  {
   "cell_type": "code",
   "execution_count": 5,
   "id": "b7275c58-1b28-4b42-a39e-ab01030071f5",
   "metadata": {},
   "outputs": [],
   "source": [
    "train_datagen = ImageDataGenerator(\n",
    "    rescale=1. / 255,\n",
    "    shear_range=0.2,\n",
    "    zoom_range=0.2,\n",
    "    horizontal_flip=True)\n",
    " \n",
    "test_datagen = ImageDataGenerator(rescale=1. / 255)"
   ]
  },
  {
   "cell_type": "code",
   "execution_count": 6,
   "id": "232ae657-fb0b-4809-83b7-eb33037a531d",
   "metadata": {},
   "outputs": [
    {
     "name": "stdout",
     "output_type": "stream",
     "text": [
      "Found 902 images belonging to 2 classes.\n"
     ]
    }
   ],
   "source": [
    "train_generator = train_datagen.flow_from_directory(\n",
    "    train_data_dir,\n",
    "    target_size=(img_width, img_height),\n",
    "    batch_size=batch_size,\n",
    "    class_mode='binary')"
   ]
  },
  {
   "cell_type": "code",
   "execution_count": 7,
   "id": "5681bee7-e2aa-44a9-beec-ee4cf81b58d1",
   "metadata": {},
   "outputs": [
    {
     "name": "stdout",
     "output_type": "stream",
     "text": [
      "Found 225 images belonging to 2 classes.\n"
     ]
    }
   ],
   "source": [
    "validation_generator = test_datagen.flow_from_directory(\n",
    "    test_data_dir,\n",
    "    target_size=(img_width, img_height),\n",
    "    batch_size=batch_size,\n",
    "    class_mode='binary')"
   ]
  },
  {
   "cell_type": "code",
   "execution_count": 8,
   "id": "646a292f-58ee-45d9-b111-01e2395dc901",
   "metadata": {},
   "outputs": [
    {
     "name": "stderr",
     "output_type": "stream",
     "text": [
      "C:\\Users\\gavin\\AppData\\Local\\Temp\\ipykernel_7316\\2716819207.py:1: UserWarning: `Model.fit_generator` is deprecated and will be removed in a future version. Please use `Model.fit`, which supports generators.\n",
      "  model.fit_generator(\n"
     ]
    },
    {
     "name": "stdout",
     "output_type": "stream",
     "text": [
      "Epoch 1/10\n",
      "56/56 [==============================] - 38s 649ms/step - loss: 0.7240 - accuracy: 0.5790 - val_loss: 0.6054 - val_accuracy: 0.8080\n",
      "Epoch 2/10\n",
      "56/56 [==============================] - 43s 763ms/step - loss: 0.5463 - accuracy: 0.7246 - val_loss: 0.3804 - val_accuracy: 0.8482\n",
      "Epoch 3/10\n",
      "56/56 [==============================] - 39s 700ms/step - loss: 0.4050 - accuracy: 0.8330 - val_loss: 0.2809 - val_accuracy: 0.9464\n",
      "Epoch 4/10\n",
      "56/56 [==============================] - 43s 766ms/step - loss: 0.3159 - accuracy: 0.8792 - val_loss: 0.1801 - val_accuracy: 0.9330\n",
      "Epoch 5/10\n",
      "56/56 [==============================] - 40s 705ms/step - loss: 0.3154 - accuracy: 0.8804 - val_loss: 0.1571 - val_accuracy: 0.9509\n",
      "Epoch 6/10\n",
      "56/56 [==============================] - 40s 715ms/step - loss: 0.2585 - accuracy: 0.9097 - val_loss: 0.1957 - val_accuracy: 0.9107\n",
      "Epoch 7/10\n",
      "56/56 [==============================] - 45s 812ms/step - loss: 0.2189 - accuracy: 0.9210 - val_loss: 0.7210 - val_accuracy: 0.7634\n",
      "Epoch 8/10\n",
      "56/56 [==============================] - 42s 752ms/step - loss: 0.2481 - accuracy: 0.9120 - val_loss: 0.1368 - val_accuracy: 0.9509\n",
      "Epoch 9/10\n",
      "56/56 [==============================] - 43s 764ms/step - loss: 0.2043 - accuracy: 0.9289 - val_loss: 0.1193 - val_accuracy: 0.9464\n",
      "Epoch 10/10\n",
      "56/56 [==============================] - 43s 755ms/step - loss: 0.2213 - accuracy: 0.9142 - val_loss: 0.2280 - val_accuracy: 0.9062\n"
     ]
    },
    {
     "data": {
      "text/plain": [
       "<keras.callbacks.History at 0x25ede9b0970>"
      ]
     },
     "execution_count": 8,
     "metadata": {},
     "output_type": "execute_result"
    }
   ],
   "source": [
    "model.fit_generator(\n",
    "    train_generator,\n",
    "    steps_per_epoch=nb_train_samples // batch_size,\n",
    "    epochs=epochs,\n",
    "    validation_data=validation_generator,\n",
    "    validation_steps=nb_test_samples // batch_size)"
   ]
  },
  {
   "cell_type": "code",
   "execution_count": 9,
   "id": "70f720fa-b7aa-451f-98a2-33b3805b6059",
   "metadata": {},
   "outputs": [],
   "source": [
    "model.save('model_saved.h5')"
   ]
  },
  {
   "cell_type": "code",
   "execution_count": null,
   "id": "a865faff-09b0-4f6d-ae2e-b3d6beb29a80",
   "metadata": {},
   "outputs": [],
   "source": []
  }
 ],
 "metadata": {
  "kernelspec": {
   "display_name": "Python 3 (ipykernel)",
   "language": "python",
   "name": "python3"
  },
  "language_info": {
   "codemirror_mode": {
    "name": "ipython",
    "version": 3
   },
   "file_extension": ".py",
   "mimetype": "text/x-python",
   "name": "python",
   "nbconvert_exporter": "python",
   "pygments_lexer": "ipython3",
   "version": "3.9.13"
  }
 },
 "nbformat": 4,
 "nbformat_minor": 5
}
