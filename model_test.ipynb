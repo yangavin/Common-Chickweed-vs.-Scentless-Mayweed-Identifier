{
 "cells": [
  {
   "cell_type": "code",
   "execution_count": 1,
   "id": "8b0ffa21-b7ea-4203-9fbe-3b3308c56193",
   "metadata": {},
   "outputs": [],
   "source": [
    "from keras.models import load_model\n",
    "from keras.utils import image_utils\n",
    "from keras.applications.vgg16 import preprocess_input\n",
    "from keras.applications.vgg16 import decode_predictions\n",
    "from keras.applications.vgg16 import VGG16\n",
    "import numpy as np\n",
    " \n",
    "from keras.models import load_model"
   ]
  },
  {
   "cell_type": "code",
   "execution_count": 2,
   "id": "570dedc9-1d09-4a4c-a976-06fba647d8f8",
   "metadata": {},
   "outputs": [
    {
     "name": "stdout",
     "output_type": "stream",
     "text": [
      "1/1 [==============================] - 0s 164ms/step\n",
      "Predicted Class (0 - Common Chickweed , 1 - Scentless Mayweed):  0.16674063\n"
     ]
    }
   ],
   "source": [
    "model = load_model('model_saved.h5')\n",
    "\n",
    "image = image_utils.load_img('crop_common_chickweed_growth_habit_hugo-arg_wikipedia.jpg', target_size=(224, 224))\n",
    "img = np.array(image)\n",
    "img = img / 255.0\n",
    "img = img.reshape(1,224,224,3)\n",
    "label = model.predict(img)\n",
    "print(\"Predicted Class (0 - Common Chickweed , 1 - Scentless Mayweed): \", label[0][0])"
   ]
  },
  {
   "cell_type": "code",
   "execution_count": null,
   "id": "224c2ceb-6833-44f0-bd1d-3d87df947968",
   "metadata": {},
   "outputs": [],
   "source": []
  }
 ],
 "metadata": {
  "kernelspec": {
   "display_name": "Python 3 (ipykernel)",
   "language": "python",
   "name": "python3"
  },
  "language_info": {
   "codemirror_mode": {
    "name": "ipython",
    "version": 3
   },
   "file_extension": ".py",
   "mimetype": "text/x-python",
   "name": "python",
   "nbconvert_exporter": "python",
   "pygments_lexer": "ipython3",
   "version": "3.9.13"
  }
 },
 "nbformat": 4,
 "nbformat_minor": 5
}
